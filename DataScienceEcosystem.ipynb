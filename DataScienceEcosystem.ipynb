{
 "cells": [
  {
   "cell_type": "markdown",
   "id": "34c11b1e-9580-4a65-ad7b-69bdec6120e4",
   "metadata": {},
   "source": [
    "# Data Science Tools and Ecosystem"
   ]
  },
  {
   "cell_type": "markdown",
   "id": "0af3ac8c-7bfe-4384-a34e-24cd13b12b85",
   "metadata": {},
   "source": [
    "In this notebook, Data Science Tools and Ecosystem are summarized."
   ]
  },
  {
   "cell_type": "markdown",
   "id": "38ca7940-0bdd-49df-8cf0-44cc02fbff11",
   "metadata": {},
   "source": [
    "*Objectives:*\n",
    "- List popular languages and librairies for Data Science\n",
    "- Enumerate three development environment open source tools used in data science\n",
    "- Describe basic arithmetic expressions in Python"
   ]
  },
  {
   "cell_type": "markdown",
   "id": "4d90337d-00dc-4fbf-b6f9-501e577caf55",
   "metadata": {},
   "source": [
    "Some of the popular languages that Data Scientists use are:\n",
    "1. Python\n",
    "2. R\n",
    "3. SQL\n",
    "4. Scala"
   ]
  },
  {
   "attachments": {},
   "cell_type": "markdown",
   "id": "9a3baf79-9c1f-48f0-9f75-1569ee4edfe1",
   "metadata": {},
   "source": [
    "Some of the commonly used libraries used by Data Scientists include:\n",
    "1. Pandas\n",
    "2. Numpy\n",
    "3. Matplotlib\n",
    "4. Scikit-learn\n",
    "5. PyTorch\n",
    "6. Vegas\n",
    "7. ggplot2"
   ]
  },
  {
   "cell_type": "markdown",
   "id": "9cf2ff45-6c23-4ea3-ab1b-94f98049cdbb",
   "metadata": {},
   "source": [
    "| Data Science Tools |\n",
    "| ---------------------- |\n",
    "| Jupyter Notebook |\n",
    "| RStudio |\n",
    "| GoogleColab |"
   ]
  },
  {
   "cell_type": "markdown",
   "id": "e6b2f782-6b52-4049-8b39-35aafcad2410",
   "metadata": {},
   "source": [
    "Below are a few examples of evaluating arithmetic expressions in Python"
   ]
  },
  {
   "cell_type": "code",
   "execution_count": 2,
   "id": "cc122eff-76e2-47c8-907f-f2506f74e800",
   "metadata": {},
   "outputs": [
    {
     "data": {
      "text/plain": [
       "17"
      ]
     },
     "execution_count": 2,
     "metadata": {},
     "output_type": "execute_result"
    }
   ],
   "source": [
    "# This a simple arithmetic expression to mutiply then add integers\n",
    "(3*4)+5"
   ]
  },
  {
   "cell_type": "code",
   "execution_count": 3,
   "id": "6f90b9ba-80cf-4eba-9cf0-7f640c955708",
   "metadata": {},
   "outputs": [
    {
     "data": {
      "text/plain": [
       "3.3333333333333335"
      ]
     },
     "execution_count": 3,
     "metadata": {},
     "output_type": "execute_result"
    }
   ],
   "source": [
    "# This will convert 200 minutes to hours by diving by 60\n",
    "def convert_minutes_to_hours(minutes):\n",
    "    hours = minutes / 60\n",
    "    return hours\n",
    "convert_minutes_to_hours(200)"
   ]
  },
  {
   "cell_type": "markdown",
   "id": "4d046aac-cc4c-474d-843d-42f77fa5f176",
   "metadata": {},
   "source": [
    "## Author\n",
    "Nabil Younis"
   ]
  }
 ],
 "metadata": {
  "kernelspec": {
   "display_name": "Python 3 (ipykernel)",
   "language": "python",
   "name": "python3"
  },
  "language_info": {
   "codemirror_mode": {
    "name": "ipython",
    "version": 3
   },
   "file_extension": ".py",
   "mimetype": "text/x-python",
   "name": "python",
   "nbconvert_exporter": "python",
   "pygments_lexer": "ipython3",
   "version": "3.11.7"
  }
 },
 "nbformat": 4,
 "nbformat_minor": 5
}
